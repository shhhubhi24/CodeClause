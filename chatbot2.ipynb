{
 "cells": [
  {
   "cell_type": "code",
   "execution_count": 1,
   "id": "883a5b20-b223-4f3b-89d3-69705c148cc0",
   "metadata": {},
   "outputs": [
    {
     "name": "stderr",
     "output_type": "stream",
     "text": [
      "[nltk_data] Downloading package wordnet to\n",
      "[nltk_data]     C:\\Users\\shubh\\AppData\\Roaming\\nltk_data...\n",
      "[nltk_data]   Package wordnet is already up-to-date!\n",
      "[nltk_data] Downloading package punkt to\n",
      "[nltk_data]     C:\\Users\\shubh\\AppData\\Roaming\\nltk_data...\n",
      "[nltk_data]   Package punkt is already up-to-date!\n",
      "[nltk_data] Downloading package averaged_perceptron_tagger to\n",
      "[nltk_data]     C:\\Users\\shubh\\AppData\\Roaming\\nltk_data...\n",
      "[nltk_data]   Package averaged_perceptron_tagger is already up-to-\n",
      "[nltk_data]       date!\n"
     ]
    },
    {
     "data": {
      "text/plain": [
       "True"
      ]
     },
     "execution_count": 1,
     "metadata": {},
     "output_type": "execute_result"
    }
   ],
   "source": [
    "import nltk\n",
    "from nltk.stem import WordNetLemmatizer, PorterStemmer\n",
    "from nltk.chat.util import Chat, reflections\n",
    "from nltk.corpus import wordnet\n",
    "import numpy as np\n",
    "import random\n",
    "\n",
    "# Download necessary NLTK data files\n",
    "nltk.download('wordnet')\n",
    "nltk.download('punkt')\n",
    "nltk.download('averaged_perceptron_tagger')\n"
   ]
  },
  {
   "cell_type": "code",
   "execution_count": 2,
   "id": "6dd45d92-1546-45db-897d-46dd936abbc2",
   "metadata": {},
   "outputs": [],
   "source": [
    "# Enhance reflections\n",
    "reflections = {\n",
    "    \"i am\"       : \"you are\",\n",
    "    \"i was\"      : \"you were\",\n",
    "    \"i\"          : \"you\",\n",
    "    \"i'd\"        : \"you would\",\n",
    "    \"i've\"       : \"you have\",\n",
    "    \"i'll\"       : \"you will\",\n",
    "    \"my\"         : \"your\",\n",
    "    \"you are\"    : \"I am\",\n",
    "    \"you were\"   : \"I was\",\n",
    "    \"you've\"     : \"I have\",\n",
    "    \"you'll\"     : \"I will\",\n",
    "    \"your\"       : \"my\",\n",
    "    \"yours\"      : \"mine\",\n",
    "    \"you\"        : \"me\",\n",
    "    \"me\"         : \"you\",\n",
    "    \"am\"         : \"are\"\n",
    "}\n",
    "\n",
    "# Initialize lemmatizer and stemmer\n",
    "lemmatizer = WordNetLemmatizer()\n",
    "stemmer = PorterStemmer()\n",
    "\n",
    "# Function to get the WordNet POS tag for lemmatization\n",
    "def get_wordnet_pos(word):\n",
    "    \"\"\"Get the WordNet POS tag for lemmatization.\"\"\"\n",
    "    tag = nltk.pos_tag([word])[0][1][0].upper()\n",
    "    tag_dict = {\n",
    "        'J': wordnet.ADJ,\n",
    "        'N': wordnet.NOUN,\n",
    "        'V': wordnet.VERB,\n",
    "        'R': wordnet.ADV\n",
    "    }\n",
    "    return tag_dict.get(tag, wordnet.NOUN)\n",
    "\n",
    "# Function to lemmatize and stem words\n",
    "def lemmatize_and_stem(word):\n",
    "    lemmatized_word = lemmatizer.lemmatize(word, get_wordnet_pos(word))\n",
    "    stemmed_word = stemmer.stem(lemmatized_word)\n",
    "    return stemmed_word\n"
   ]
  },
  {
   "cell_type": "code",
   "execution_count": 3,
   "id": "dedb232f-d104-48f7-9463-4d3aa5d53875",
   "metadata": {},
   "outputs": [],
   "source": [
    "pairs = [\n",
    "    [\n",
    "        r\"i am feeling (sad|down|depressed|unhappy|blue|low)\",\n",
    "        [\"I'm sorry to hear that. Here are some tips to help you feel better:\\n1. Talk to a friend or family member.\\n2. Take a walk outside.\\n3. Listen to your favorite music.\\n4. Write down your thoughts in a journal.\\n5. Try to do something you enjoy.\"]\n",
    "    ],\n",
    "    [\n",
    "        r\"i am (bored|tired|exhausted)\",\n",
    "        [\"It sounds like you need a break. Here are some tips:\\n1. Take a short nap.\\n2. Do some light exercise.\\n3. Read a book or watch a movie.\\n4. Try a new hobby or activity.\\n5. Drink some water and have a healthy snack.\"]\n",
    "    ],\n",
    "    [\n",
    "        r\"i am (anxious|worried|nervous)\",\n",
    "        [\"Feeling anxious can be tough. Here are some tips to help you relax:\\n1. Practice deep breathing exercises.\\n2. Try meditation or yoga.\\n3. Take a break and do something you enjoy.\\n4. Talk to someone you trust about your worries.\\n5. Write down what’s making you anxious and try to address it step by step.\"]\n",
    "    ],\n",
    "    [\n",
    "        r\"i feel (.*)\",\n",
    "        [\"Why do you feel %1?\", \"What makes you feel %1?\", \"Do you often feel %1?\"]\n",
    "    ],\n",
    "    [\n",
    "        r\"hi|hey|hello\",\n",
    "        [\"Hello! How are you feeling today?\", \"Hi there! How can I help you today?\", \"Hey! What's on your mind?\"]\n",
    "    ],\n",
    "    [\n",
    "        r\"what is your name?\",\n",
    "        [\"I am a chatbot created by OpenAI. You can call me Chatbot.\", \"I'm known as Chatbot.\"]\n",
    "    ],\n",
    "    [\n",
    "        r\"how are you?\",\n",
    "        [\"I'm just a program, so I don't have feelings, but I'm here to help you!\", \"I'm functioning as expected. How can I assist you?\"]\n",
    "    ],\n",
    "    [\n",
    "        r\"sorry (.*)\",\n",
    "        [\"It's alright.\", \"No problem.\", \"Don't worry about it.\"]\n",
    "    ],\n",
    "    [\n",
    "        r\"(.*) (good|great|fantastic|amazing)\",\n",
    "        [\"I'm glad to hear that!\", \"That's wonderful!\", \"Great to hear!\"]\n",
    "    ],\n",
    "    [\n",
    "        r\"(.*) (bad|terrible|awful)\",\n",
    "        [\"I'm sorry to hear that. Can I do something to help?\", \"That's unfortunate. Is there anything I can do?\"]\n",
    "    ],\n",
    "    [\n",
    "        r\"quit\",\n",
    "        [\"Bye for now. Take care!\", \"Goodbye. Have a nice day!\"]\n",
    "    ],\n",
    "    [\n",
    "        r\"(.*)\",\n",
    "        [\"I'm not sure I understand. Could you please elaborate?\", \"Can you tell me more about that?\", \"Why do you say that?\"]\n",
    "    ],\n",
    "]\n"
   ]
  },
  {
   "cell_type": "code",
   "execution_count": null,
   "id": "0054bb9c-6558-4070-83cc-ce0ba54eaeb9",
   "metadata": {},
   "outputs": [
    {
     "name": "stdout",
     "output_type": "stream",
     "text": [
      "Hi, I'm your chatbot! Type 'quit' to end the conversation.\n"
     ]
    },
    {
     "name": "stdin",
     "output_type": "stream",
     "text": [
      ">  how are you\n"
     ]
    },
    {
     "name": "stdout",
     "output_type": "stream",
     "text": [
      "I'm just a program, so I don't have feelings, but I'm here to help you!\n"
     ]
    },
    {
     "name": "stdin",
     "output_type": "stream",
     "text": [
      ">  i feel anxious\n"
     ]
    },
    {
     "name": "stdout",
     "output_type": "stream",
     "text": [
      "Do you often feel anxious?\n"
     ]
    },
    {
     "name": "stdin",
     "output_type": "stream",
     "text": [
      ">  not really\n"
     ]
    },
    {
     "name": "stdout",
     "output_type": "stream",
     "text": [
      "Why do you say that?\n"
     ]
    },
    {
     "name": "stdin",
     "output_type": "stream",
     "text": [
      ">  i am feeling sad\n"
     ]
    },
    {
     "name": "stdout",
     "output_type": "stream",
     "text": [
      "I'm sorry to hear that. Here are some tips to help you feel better:\n",
      "1. Talk to a friend or family member.\n",
      "2. Take a walk outside.\n",
      "3. Listen to your favorite music.\n",
      "4. Write down your thoughts in a journal.\n",
      "5. Try to do something you enjoy.\n"
     ]
    }
   ],
   "source": [
    "# Create the chatbot\n",
    "chatbot = Chat(pairs, reflections)\n",
    "\n",
    "# Function to start the conversation\n",
    "def start_chat():\n",
    "    print(\"Hi, I'm your chatbot! Type 'quit' to end the conversation.\")\n",
    "    while True:\n",
    "        user_input = input(\"> \")\n",
    "        if user_input.lower() == \"quit\":\n",
    "            print(\"Goodbye!\")\n",
    "            break\n",
    "        else:\n",
    "            response = chatbot.respond(user_input)\n",
    "            if response:\n",
    "                print(response)\n",
    "            else:\n",
    "                # Adding some more complexity to responses\n",
    "                words = nltk.word_tokenize(user_input)\n",
    "                response_found = False\n",
    "                for word in words:\n",
    "                    normalized_word = lemmatize_and_stem(word)\n",
    "                    synonyms = get_synonyms(normalized_word)\n",
    "                    for synonym in synonyms:\n",
    "                        response = chatbot.respond(synonym)\n",
    "                        if response:\n",
    "                            print(response)\n",
    "                            response_found = True\n",
    "                            break\n",
    "                    if response_found:\n",
    "                        break\n",
    "                if not response_found:\n",
    "                    print(\"I'm not sure I understand. Could you please elaborate?\")\n",
    "\n",
    "# Start the chatbot\n",
    "start_chat()\n"
   ]
  },
  {
   "cell_type": "code",
   "execution_count": null,
   "id": "dbfe3920-f4dd-458d-9d39-5a877c4ced0c",
   "metadata": {},
   "outputs": [],
   "source": []
  }
 ],
 "metadata": {
  "kernelspec": {
   "display_name": "Python 3 (ipykernel)",
   "language": "python",
   "name": "python3"
  },
  "language_info": {
   "codemirror_mode": {
    "name": "ipython",
    "version": 3
   },
   "file_extension": ".py",
   "mimetype": "text/x-python",
   "name": "python",
   "nbconvert_exporter": "python",
   "pygments_lexer": "ipython3",
   "version": "3.11.7"
  }
 },
 "nbformat": 4,
 "nbformat_minor": 5
}
